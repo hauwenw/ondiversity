{
 "cells": [
  {
   "cell_type": "code",
   "execution_count": 2,
   "metadata": {
    "collapsed": true
   },
   "outputs": [],
   "source": [
    "# This file will import and clenup the data"
   ]
  },
  {
   "cell_type": "code",
   "execution_count": 3,
   "metadata": {
    "collapsed": true
   },
   "outputs": [],
   "source": [
    "import numpy as np\n",
    "import pandas as pd"
   ]
  },
  {
   "cell_type": "code",
   "execution_count": 76,
   "metadata": {
    "collapsed": true
   },
   "outputs": [],
   "source": [
    "def dataCleanUp(df = None):\n",
    "    \n",
    "    # Import data\n",
    "    if df is None:\n",
    "        file_name = \"/Users/Robin/Documents/GitHub/ondiversity/Data/data_public1.csv\"\n",
    "        df = pd.read_csv(file_name)\n",
    "    \n",
    "    # Delete column contains only \"NaN\"\n",
    "    cleaned_data = df.dropna(axis = 1, how = \"all\")\n",
    "    \n",
    "    # Delete row when EmplID = NaN\n",
    "    cleaned_data = cleaned_data[cleaned_data[\"EmplID\"].notnull()]\n",
    "    return df;"
   ]
  }
 ],
 "metadata": {
  "anaconda-cloud": {},
  "kernelspec": {
   "display_name": "Python [default]",
   "language": "python",
   "name": "python3"
  },
  "language_info": {
   "codemirror_mode": {
    "name": "ipython",
    "version": 3
   },
   "file_extension": ".py",
   "mimetype": "text/x-python",
   "name": "python",
   "nbconvert_exporter": "python",
   "pygments_lexer": "ipython3",
   "version": "3.5.2"
  }
 },
 "nbformat": 4,
 "nbformat_minor": 1
}
